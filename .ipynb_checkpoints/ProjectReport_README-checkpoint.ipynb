{
 "cells": [
  {
   "cell_type": "markdown",
   "metadata": {},
   "source": [
    "***PROJECT REPORT***"
   ]
  },
  {
   "cell_type": "markdown",
   "metadata": {},
   "source": [
    "***Rating Prediction and Topic modelling on Refrigerator water filter Amazon Reviews***"
   ]
  },
  {
   "cell_type": "markdown",
   "metadata": {},
   "source": [
    "# PROBLEM STATEMENT:\n",
    "To do Topic modeling and Rating Prediction(Basic Sentiment Analysis) to bring out the topics discussed in Amazon Refrigerator Water Filter reviews and their sentiments. This project will be helpful for Product development department to understand more about a product based on customer's review. They can use those ideas to further develop their product."
   ]
  },
  {
   "cell_type": "markdown",
   "metadata": {},
   "source": [
    "***Data is Extracted from http://deepyeti.ucsd.edu/jianmo/amazon/index.html***\n"
   ]
  },
  {
   "cell_type": "markdown",
   "metadata": {},
   "source": [
    "# DATA PREPROCESSING"
   ]
  },
  {
   "cell_type": "markdown",
   "metadata": {},
   "source": [
    "## DATA CLEANING AND EDA - AMAZON APPLIANCES REVIEW"
   ]
  },
  {
   "cell_type": "markdown",
   "metadata": {},
   "source": [
    "***Data Dictionery for Reviews table***"
   ]
  },
  {
   "cell_type": "markdown",
   "metadata": {},
   "source": [
    "\n",
    "|Variable name|Description|Data type\n",
    "|---|---|---|\n",
    "|reviewerID|ID of the reviewer, e.g. A2SUAM1J3GNN3B|object|\n",
    "|asin|ID of the product, e.g. 0000013714|object|\n",
    "|reviewerName|name of the reviewer|object|\n",
    "|vote|helpful votes of the review|object|\n",
    "|style|a disctionary of the product metadata, e.g., \"Format\" is \"Hardcover\"|object|\n",
    "|reviewText|text of the review|object|\n",
    "|overall|rating of the product|float|\n",
    "|summary|summary of the review|object|\n",
    "|unixReviewTime|time of the review (unix time)|int|\n",
    "|reviewTime|time of the review (raw)|object|\n",
    "|image|image|object|\n",
    "|verified|filter verification|boolean|"
   ]
  },
  {
   "cell_type": "markdown",
   "metadata": {},
   "source": [
    "- There are total of 602,777 reviews"
   ]
  },
  {
   "cell_type": "markdown",
   "metadata": {},
   "source": [
    "- Rating are classified into 5 categories based on the sentiments"
   ]
  },
  {
   "cell_type": "markdown",
   "metadata": {},
   "source": [
    "- Choose Verified reviews for modelling and it is about 563870 reviews"
   ]
  },
  {
   "cell_type": "markdown",
   "metadata": {},
   "source": [
    "- Dropped image and verified columns"
   ]
  },
  {
   "cell_type": "markdown",
   "metadata": {
    "ExecuteTime": {
     "end_time": "2019-12-04T12:57:51.467659Z",
     "start_time": "2019-12-04T12:57:51.455145Z"
    }
   },
   "source": [
    "- From reviewTime column, month and year column is extracted"
   ]
  },
  {
   "cell_type": "markdown",
   "metadata": {
    "ExecuteTime": {
     "end_time": "2019-12-04T12:59:40.708749Z",
     "start_time": "2019-12-04T12:59:40.689646Z"
    }
   },
   "source": [
    "- Reviews per year"
   ]
  },
  {
   "attachments": {},
   "cell_type": "markdown",
   "metadata": {},
   "source": [
    "|Year|Number of Reviews|\n",
    "|---|---|\n",
    "|16|133987|\n",
    "|17|131059|\n",
    "|15|104764|\n",
    "|18|75093|\n",
    "|14|63166|\n",
    "|13|34846|\n",
    "|12|11277|\n",
    "|11|5606|\n",
    "|10|2557|\n",
    "|9|853|\n",
    "|8|372|\n",
    "|7|214|\n",
    "|6|49|\n",
    "|5|23|\n",
    "|4|3|\n",
    "|2|1|"
   ]
  },
  {
   "cell_type": "markdown",
   "metadata": {},
   "source": [
    "- The above numbers also have the count of other appliances other than water filter"
   ]
  },
  {
   "cell_type": "markdown",
   "metadata": {},
   "source": [
    "- We could see year by year reviews increases. 2018 reviews are incomplete."
   ]
  },
  {
   "cell_type": "markdown",
   "metadata": {},
   "source": [
    "- Choosing year greater than 2012 for topic modelling. More reviews are taken for topic modelling compared to text classification to get topics without overlap."
   ]
  },
  {
   "cell_type": "markdown",
   "metadata": {},
   "source": [
    "- Only 4 years considered for rating classification as rating 5 is significantly greater than any other rating with increase in years. This results in classification of most of the reviews as Rating 5 as the data is imbalanced.To prevent that we limit the number of years to 4, which also gives enough reviews for the prediction."
   ]
  },
  {
   "cell_type": "markdown",
   "metadata": {},
   "source": [
    "- As we have a big data more than what the computer can handle, we limit the reviews per water filter to greater than 500."
   ]
  },
  {
   "cell_type": "markdown",
   "metadata": {},
   "source": [
    "## DATA CLEANING - AMAZON APPLIANCES PRODUCT DETAILS"
   ]
  },
  {
   "cell_type": "markdown",
   "metadata": {},
   "source": [
    "***Data Dictionary for Amazon appliances product details***"
   ]
  },
  {
   "cell_type": "markdown",
   "metadata": {},
   "source": [
    "|Variable name|Description|Data type|\n",
    "|---|---|---|\n",
    "|category|product category|object|\n",
    "|description|product description|object|\n",
    "|title|product name|object|\n",
    "|also_buy|other products that customer buy|object|\n",
    "|brand|brand of the product|object|\n",
    "|rank|product ranking|object|\n",
    "|also_view|other products that customer view|object|\n",
    "|main_cat|main product category|object|\n",
    "|price|product price|object|\n",
    "|asin|amazon product id|object|\n",
    "|tech1|technical details of the product|object|\n",
    "|image|product image|object|\n",
    "|date|date at which the product details are extracted|object|\n",
    "|feature|product features|object|\n",
    "|similar_item|item similar to the product|object|\n",
    "|details|product details|object|\n",
    "|tech2|technical details of the product|object|\n"
   ]
  },
  {
   "cell_type": "markdown",
   "metadata": {},
   "source": [
    "- Filtering product title with 'Refrigerator Water Filter' in it"
   ]
  },
  {
   "cell_type": "markdown",
   "metadata": {},
   "source": [
    "- dropped the columns 'also_buy','also_view','similar_item','image','tech2','details'"
   ]
  },
  {
   "cell_type": "markdown",
   "metadata": {},
   "source": [
    "- created month column and year column from the date column"
   ]
  },
  {
   "cell_type": "markdown",
   "metadata": {},
   "source": [
    "- sorted the dataframe by year and than by month to extract the unique product detail after dropping the old details about the water filter."
   ]
  },
  {
   "cell_type": "markdown",
   "metadata": {},
   "source": [
    "## MERGING REVIEWS AND PRODUCT DETAILS AND CLEANING"
   ]
  },
  {
   "cell_type": "markdown",
   "metadata": {},
   "source": [
    "- merging the above 2 dataframes and got the product details for the water filter reviews with more than 500 reviews per water filter."
   ]
  },
  {
   "cell_type": "markdown",
   "metadata": {},
   "source": [
    "- This is an imbalance data and the prediction mostly shows the neighbour classes as the words used in between neighbour classes are similar."
   ]
  },
  {
   "cell_type": "markdown",
   "metadata": {},
   "source": [
    "- The rating 2,3,4 are grouped together as 2 as the reviews are quite similar and difficult to interpret under the correct rating"
   ]
  },
  {
   "cell_type": "markdown",
   "metadata": {},
   "source": [
    "***Even now the data have a imbalance but better than before***"
   ]
  },
  {
   "cell_type": "markdown",
   "metadata": {},
   "source": [
    "- Number of reviews under each class"
   ]
  },
  {
   "cell_type": "markdown",
   "metadata": {},
   "source": [
    "|Filter Class|Number of Reviews|\n",
    "|---|---|\n",
    "|1.0|24690|\n",
    "|2.0|5123|\n",
    "|3.0|2823|"
   ]
  },
  {
   "cell_type": "markdown",
   "metadata": {},
   "source": [
    "- Dropped unnecessary columns and kept only ['asin','title','tech1','reviewText','overall','reviewerID',\n",
    "  'reviewTime','year','month']"
   ]
  },
  {
   "cell_type": "markdown",
   "metadata": {},
   "source": [
    "## CONVERTING WORDS INTO CORPUS"
   ]
  },
  {
   "cell_type": "markdown",
   "metadata": {},
   "source": [
    "- Describing our own stopwords to avoid some of the negative words like 'not' from being stopped"
   ]
  },
  {
   "cell_type": "markdown",
   "metadata": {},
   "source": [
    "- Steps involved in creating corpus and encoding the corpus\n",
    "  * Regex used to extract words\n",
    "  * Lower case conversion\n",
    "  * Spacy Lemma used to Lemmatize\n",
    "  * NLTK stemming used for stemming\n",
    "  * Bigram and Trigrams are created\n",
    "  * Postags-noun, adverb, adjective,verb - Topic Modelling\n",
    "  * Gensim simple preprocess used for cleaning - Topic modelling\n",
    "  * Count Vectorizer and TFIDF Vectorizer used to vectorize - Rating prediction\n",
    "  * doc2bow encoding used to encode - Topic modelling\n",
    "  * Gensim bigram and trigram - Topic modelling\n",
    "  * corpora.Dictionary - used to create dictionary for topic modelling\n",
    "\n"
   ]
  },
  {
   "cell_type": "markdown",
   "metadata": {
    "ExecuteTime": {
     "end_time": "2019-12-04T13:38:10.252955Z",
     "start_time": "2019-12-04T13:38:10.231655Z"
    }
   },
   "source": [
    "# EXPLORATORY DATA ANALYSIS"
   ]
  },
  {
   "cell_type": "markdown",
   "metadata": {},
   "source": [
    "- As class 1, 2, 3 is not clear enough we give them a name good, average, bad respectively"
   ]
  },
  {
   "cell_type": "markdown",
   "metadata": {},
   "source": [
    "- Good reviews have more positive words like great, perfect, work, fit etc\n",
    "- Average reviews have top words like good and also great, work, expensive\n",
    "- bad reviews have words like leak, bad, didn, return apart from fit work"
   ]
  },
  {
   "cell_type": "markdown",
   "metadata": {},
   "source": [
    "# MODELLING"
   ]
  },
  {
   "cell_type": "markdown",
   "metadata": {},
   "source": [
    "## TEXT CLASSIFICATION"
   ]
  },
  {
   "cell_type": "markdown",
   "metadata": {},
   "source": [
    "***Classifiers Used:***"
   ]
  },
  {
   "cell_type": "markdown",
   "metadata": {
    "ExecuteTime": {
     "end_time": "2019-12-04T13:43:54.553705Z",
     "start_time": "2019-12-04T13:43:54.527984Z"
    }
   },
   "source": [
    "- Logistics Regression\n",
    "- Multinomial Naive Bayes\n",
    "- Support Vector \n",
    "- Random Forest\n",
    "- Adaboost \n",
    "- Extratrees\n",
    "- Voting classifier\n"
   ]
  },
  {
   "cell_type": "markdown",
   "metadata": {},
   "source": [
    "***Techniques used to bring down the imbalance in the data and improve accuracy***"
   ]
  },
  {
   "cell_type": "markdown",
   "metadata": {},
   "source": [
    "- Upsample - SMOTE()\n",
    "  - System could not handle upsample. But it doesn't perform well also with small dataset.\n",
    "- Downsample - NearMiss()\n",
    "  - Downsample classified most of the rating as the majority class. The recall of the model is very poor with       downsample.\n",
    "- PCA - Dimensionality Reduction\n",
    "  - PCA has no effect on the model \n"
   ]
  },
  {
   "cell_type": "markdown",
   "metadata": {},
   "source": [
    "### FINAL TEXT CLASSIFICATION MODEL"
   ]
  },
  {
   "cell_type": "markdown",
   "metadata": {},
   "source": [
    "- Logistics Regression using Count Vectorizer. The combination is quite dood compared to the combination of Logistics regression and TFIDF."
   ]
  },
  {
   "cell_type": "markdown",
   "metadata": {},
   "source": [
    "### MODEL EVALUATION"
   ]
  },
  {
   "attachments": {},
   "cell_type": "markdown",
   "metadata": {},
   "source": [
    "- Classification report and Confusion matrix are used to evaluate the model."
   ]
  },
  {
   "cell_type": "markdown",
   "metadata": {},
   "source": [
    "- In classification report the precision and recall for class average is not good. Following table's True positive value compared to Actual shows the same."
   ]
  },
  {
   "cell_type": "markdown",
   "metadata": {},
   "source": [
    "|Class|Actual|True Positive|False Positive|True Negative|False Negative|\n",
    "|---|---|---|---|---|---|\n",
    "|Good|5188|4519|203|640|669|\n",
    "|Average|473|267|894|4892|206|\n",
    "|Bad|449|373|121|4786|76|"
   ]
  },
  {
   "cell_type": "markdown",
   "metadata": {},
   "source": [
    "### CONCLUSION FOR TEXT CLASSIFICATION:\n",
    "- We can realize from the above table that eventhough Class Bad is the minor class it still perform well because most of the vocabulary are unique to the class, While Class Average have vocabulary similar to class good. That's why the model only have a average F1 score of 83%. \n",
    "- Also some times the rating for the reviews are not well defined. \n",
    "- words in the reviews are not clear enough to classify the rating.\n",
    "- For the product development department, In design point of view from the top words we can see customers are expecting a filter without leak, good water taste, inexpensive and to work well."
   ]
  },
  {
   "cell_type": "markdown",
   "metadata": {},
   "source": [
    "## TOPIC MODELING:"
   ]
  },
  {
   "cell_type": "markdown",
   "metadata": {},
   "source": [
    "- LDA topic modelling is done\n",
    "   - Latent - Hidden\n",
    "   - Dirichlet - Distribution\n",
    "   - Allocation\n",
    "- Parmeters tuned\n",
    "   - Number of topics from 4 topic to 8 Topic\n",
    "   - less than 4 topics doesn't give meaningful topics while more than 7 the topics are repeated\n",
    "   - 5 is the best topic\n",
    "   - Also Passes are adjusted until 80 to obtain good topics without overlap\n",
    "   \n"
   ]
  },
  {
   "cell_type": "markdown",
   "metadata": {
    "ExecuteTime": {
     "end_time": "2019-12-04T15:49:07.826916Z",
     "start_time": "2019-12-04T15:49:07.806943Z"
    }
   },
   "source": [
    "### MODEL EVALUATION:"
   ]
  },
  {
   "cell_type": "markdown",
   "metadata": {},
   "source": [
    "Evaluated using\n",
    "   - Coherance score and pyLDAvis.gensim plot"
   ]
  },
  {
   "cell_type": "markdown",
   "metadata": {},
   "source": [
    "- Number of topics with maximum coherance is considered optimum Number of topics but still human like to label, we can still go with the number of topics, which can be interpreted without repeated topics."
   ]
  },
  {
   "cell_type": "markdown",
   "metadata": {
    "ExecuteTime": {
     "end_time": "2019-12-04T15:55:39.165512Z",
     "start_time": "2019-12-04T15:55:39.147951Z"
    }
   },
   "source": [
    "**TOPICS OBTAINED FROM TOPIC MODELLING FOR REFRIGERATOR WATER FILTER**\n",
    "1. Performance\n",
    "2. Price and Recommendation\n",
    "3. Product Details and Problem\n",
    "4. Compatibility with Refrigerators\n",
    "5. Amazon services"
   ]
  },
  {
   "cell_type": "markdown",
   "metadata": {},
   "source": [
    "- Topic 1 and Topic 2 have some overlap because of the common frequent word filter"
   ]
  },
  {
   "cell_type": "markdown",
   "metadata": {},
   "source": [
    "- Topic 1 is the dominant topic. So, top reviews are about performance of filter."
   ]
  },
  {
   "cell_type": "markdown",
   "metadata": {},
   "source": [
    "### CONCLUSION FOR TOPIC MODELLING"
   ]
  },
  {
   "cell_type": "markdown",
   "metadata": {},
   "source": [
    "***CUSTOMER’S EXPECTATION FROM WATER FILTERS:***\n",
    "- Clean water and ice with good taste .\n",
    "- Long lasting filters and able to make more gallons of water.\n",
    "- Easy to install.\n",
    "- Compatibility with various Refrigerator without leak.\n",
    "- Last but not least - Affordability"
   ]
  },
  {
   "cell_type": "markdown",
   "metadata": {},
   "source": [
    "***TOPIC MODELLING***\n",
    "\n",
    "***- Frequency wise Topic 0 contribute most.***\n",
    "\n",
    "- Advantage: \n",
    "    - Able to get Good topics by tuning.\n",
    "- Disadvantage:\n",
    "    - Even with seed difficult to reproduce.\n",
    "    - Time consuming.\n"
   ]
  }
 ],
 "metadata": {
  "kernelspec": {
   "display_name": "Python 3",
   "language": "python",
   "name": "python3"
  },
  "language_info": {
   "codemirror_mode": {
    "name": "ipython",
    "version": 3
   },
   "file_extension": ".py",
   "mimetype": "text/x-python",
   "name": "python",
   "nbconvert_exporter": "python",
   "pygments_lexer": "ipython3",
   "version": "3.7.3"
  },
  "toc": {
   "base_numbering": 1,
   "nav_menu": {},
   "number_sections": true,
   "sideBar": true,
   "skip_h1_title": false,
   "title_cell": "Table of Contents",
   "title_sidebar": "Contents",
   "toc_cell": false,
   "toc_position": {
    "height": "calc(100% - 180px)",
    "left": "10px",
    "top": "150px",
    "width": "264.82px"
   },
   "toc_section_display": true,
   "toc_window_display": false
  },
  "varInspector": {
   "cols": {
    "lenName": 16,
    "lenType": 16,
    "lenVar": 40
   },
   "kernels_config": {
    "python": {
     "delete_cmd_postfix": "",
     "delete_cmd_prefix": "del ",
     "library": "var_list.py",
     "varRefreshCmd": "print(var_dic_list())"
    },
    "r": {
     "delete_cmd_postfix": ") ",
     "delete_cmd_prefix": "rm(",
     "library": "var_list.r",
     "varRefreshCmd": "cat(var_dic_list()) "
    }
   },
   "types_to_exclude": [
    "module",
    "function",
    "builtin_function_or_method",
    "instance",
    "_Feature"
   ],
   "window_display": false
  }
 },
 "nbformat": 4,
 "nbformat_minor": 2
}
