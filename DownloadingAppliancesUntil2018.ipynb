{
 "cells": [
  {
   "cell_type": "markdown",
   "metadata": {},
   "source": [
    "\n"
   ]
  },
  {
   "cell_type": "markdown",
   "metadata": {
    "ExecuteTime": {
     "end_time": "2019-11-11T01:54:13.600511Z",
     "start_time": "2019-11-11T01:54:12.798691Z"
    }
   },
   "source": [
    "\n",
    "Downloading Appliances Dataset until 2018"
   ]
  },
  {
   "cell_type": "code",
   "execution_count": 2,
   "metadata": {
    "ExecuteTime": {
     "end_time": "2019-11-11T13:09:14.343496Z",
     "start_time": "2019-11-11T13:09:12.957087Z"
    }
   },
   "outputs": [],
   "source": [
    "import pandas as pd\n",
    "import gzip\n",
    "import json\n",
    "\n",
    "def parse(path):\n",
    "  g = gzip.open(path, 'rb')\n",
    "  for l in g:\n",
    "    yield json.loads(l)\n",
    "\n",
    "def getDF(path):\n",
    "  i = 0\n",
    "  df = {}\n",
    "  for d in parse(path):\n",
    "    df[i] = d\n",
    "    i += 1\n",
    "  return pd.DataFrame.from_dict(df, orient='index')"
   ]
  },
  {
   "cell_type": "code",
   "execution_count": 2,
   "metadata": {
    "ExecuteTime": {
     "end_time": "2019-11-11T03:37:25.960659Z",
     "start_time": "2019-11-11T03:37:12.415640Z"
    }
   },
   "outputs": [],
   "source": [
    "df = getDF('.\\datasets\\Appliances.json.gz')"
   ]
  },
  {
   "cell_type": "code",
   "execution_count": 3,
   "metadata": {
    "ExecuteTime": {
     "end_time": "2019-11-11T03:37:26.017244Z",
     "start_time": "2019-11-11T03:37:25.960659Z"
    }
   },
   "outputs": [
    {
     "data": {
      "text/html": [
       "<div>\n",
       "<style scoped>\n",
       "    .dataframe tbody tr th:only-of-type {\n",
       "        vertical-align: middle;\n",
       "    }\n",
       "\n",
       "    .dataframe tbody tr th {\n",
       "        vertical-align: top;\n",
       "    }\n",
       "\n",
       "    .dataframe thead th {\n",
       "        text-align: right;\n",
       "    }\n",
       "</style>\n",
       "<table border=\"1\" class=\"dataframe\">\n",
       "  <thead>\n",
       "    <tr style=\"text-align: right;\">\n",
       "      <th></th>\n",
       "      <th>overall</th>\n",
       "      <th>vote</th>\n",
       "      <th>verified</th>\n",
       "      <th>reviewTime</th>\n",
       "      <th>reviewerID</th>\n",
       "      <th>asin</th>\n",
       "      <th>style</th>\n",
       "      <th>reviewerName</th>\n",
       "      <th>reviewText</th>\n",
       "      <th>summary</th>\n",
       "      <th>unixReviewTime</th>\n",
       "      <th>image</th>\n",
       "    </tr>\n",
       "  </thead>\n",
       "  <tbody>\n",
       "    <tr>\n",
       "      <th>0</th>\n",
       "      <td>5.0</td>\n",
       "      <td>2</td>\n",
       "      <td>False</td>\n",
       "      <td>11 27, 2013</td>\n",
       "      <td>A3NHUQ33CFH3VM</td>\n",
       "      <td>1118461304</td>\n",
       "      <td>{'Format:': ' Hardcover'}</td>\n",
       "      <td>Greeny</td>\n",
       "      <td>Not one thing in this book seemed an obvious o...</td>\n",
       "      <td>Clear on what leads to innovation</td>\n",
       "      <td>1385510400</td>\n",
       "      <td>NaN</td>\n",
       "    </tr>\n",
       "    <tr>\n",
       "      <th>1</th>\n",
       "      <td>5.0</td>\n",
       "      <td>NaN</td>\n",
       "      <td>False</td>\n",
       "      <td>11 1, 2013</td>\n",
       "      <td>A3SK6VNBQDNBJE</td>\n",
       "      <td>1118461304</td>\n",
       "      <td>{'Format:': ' Kindle Edition'}</td>\n",
       "      <td>Leif C. Ulstrup</td>\n",
       "      <td>I have enjoyed Dr. Alan Gregerman's weekly blo...</td>\n",
       "      <td>Becoming more innovative by opening yourself t...</td>\n",
       "      <td>1383264000</td>\n",
       "      <td>NaN</td>\n",
       "    </tr>\n",
       "    <tr>\n",
       "      <th>2</th>\n",
       "      <td>5.0</td>\n",
       "      <td>NaN</td>\n",
       "      <td>False</td>\n",
       "      <td>10 10, 2013</td>\n",
       "      <td>A3SOFHUR27FO3K</td>\n",
       "      <td>1118461304</td>\n",
       "      <td>{'Format:': ' Hardcover'}</td>\n",
       "      <td>Harry Gilbert Miller III</td>\n",
       "      <td>Alan Gregerman believes that innovation comes ...</td>\n",
       "      <td>The World from Different Perspectives</td>\n",
       "      <td>1381363200</td>\n",
       "      <td>NaN</td>\n",
       "    </tr>\n",
       "    <tr>\n",
       "      <th>3</th>\n",
       "      <td>5.0</td>\n",
       "      <td>NaN</td>\n",
       "      <td>False</td>\n",
       "      <td>10 9, 2013</td>\n",
       "      <td>A1HOG1PYCAE157</td>\n",
       "      <td>1118461304</td>\n",
       "      <td>{'Format:': ' Hardcover'}</td>\n",
       "      <td>Rebecca Ripley</td>\n",
       "      <td>Alan Gregerman is a smart, funny, entertaining...</td>\n",
       "      <td>Strangers are Your New Best Friends</td>\n",
       "      <td>1381276800</td>\n",
       "      <td>NaN</td>\n",
       "    </tr>\n",
       "    <tr>\n",
       "      <th>4</th>\n",
       "      <td>5.0</td>\n",
       "      <td>10</td>\n",
       "      <td>False</td>\n",
       "      <td>09 7, 2013</td>\n",
       "      <td>A26JGAM6GZMM4V</td>\n",
       "      <td>1118461304</td>\n",
       "      <td>{'Format:': ' Hardcover'}</td>\n",
       "      <td>Robert Morris</td>\n",
       "      <td>As I began to read this book, I was again remi...</td>\n",
       "      <td>How and why it is imperative to engage, learn ...</td>\n",
       "      <td>1378512000</td>\n",
       "      <td>NaN</td>\n",
       "    </tr>\n",
       "  </tbody>\n",
       "</table>\n",
       "</div>"
      ],
      "text/plain": [
       "   overall vote  verified   reviewTime      reviewerID        asin  \\\n",
       "0      5.0    2     False  11 27, 2013  A3NHUQ33CFH3VM  1118461304   \n",
       "1      5.0  NaN     False   11 1, 2013  A3SK6VNBQDNBJE  1118461304   \n",
       "2      5.0  NaN     False  10 10, 2013  A3SOFHUR27FO3K  1118461304   \n",
       "3      5.0  NaN     False   10 9, 2013  A1HOG1PYCAE157  1118461304   \n",
       "4      5.0   10     False   09 7, 2013  A26JGAM6GZMM4V  1118461304   \n",
       "\n",
       "                            style              reviewerName  \\\n",
       "0       {'Format:': ' Hardcover'}                    Greeny   \n",
       "1  {'Format:': ' Kindle Edition'}           Leif C. Ulstrup   \n",
       "2       {'Format:': ' Hardcover'}  Harry Gilbert Miller III   \n",
       "3       {'Format:': ' Hardcover'}            Rebecca Ripley   \n",
       "4       {'Format:': ' Hardcover'}             Robert Morris   \n",
       "\n",
       "                                          reviewText  \\\n",
       "0  Not one thing in this book seemed an obvious o...   \n",
       "1  I have enjoyed Dr. Alan Gregerman's weekly blo...   \n",
       "2  Alan Gregerman believes that innovation comes ...   \n",
       "3  Alan Gregerman is a smart, funny, entertaining...   \n",
       "4  As I began to read this book, I was again remi...   \n",
       "\n",
       "                                             summary  unixReviewTime image  \n",
       "0                  Clear on what leads to innovation      1385510400   NaN  \n",
       "1  Becoming more innovative by opening yourself t...      1383264000   NaN  \n",
       "2              The World from Different Perspectives      1381363200   NaN  \n",
       "3                Strangers are Your New Best Friends      1381276800   NaN  \n",
       "4  How and why it is imperative to engage, learn ...      1378512000   NaN  "
      ]
     },
     "execution_count": 3,
     "metadata": {},
     "output_type": "execute_result"
    }
   ],
   "source": [
    "df.head()"
   ]
  },
  {
   "cell_type": "code",
   "execution_count": 6,
   "metadata": {
    "ExecuteTime": {
     "end_time": "2019-11-11T03:39:38.259539Z",
     "start_time": "2019-11-11T03:39:32.985731Z"
    }
   },
   "outputs": [
    {
     "data": {
      "text/plain": [
       "(602777, 12)"
      ]
     },
     "execution_count": 6,
     "metadata": {},
     "output_type": "execute_result"
    }
   ],
   "source": [
    "df.to_csv('.\\datasets\\Appliances.csv',index=False)\n",
    "df.shape"
   ]
  },
  {
   "cell_type": "code",
   "execution_count": 7,
   "metadata": {
    "ExecuteTime": {
     "end_time": "2019-11-11T09:01:22.509010Z",
     "start_time": "2019-11-11T09:01:08.305193Z"
    }
   },
   "outputs": [],
   "source": [
    "df1 = getDF('.\\datasets\\meta_Appliances.json.gz')"
   ]
  },
  {
   "cell_type": "code",
   "execution_count": 8,
   "metadata": {
    "ExecuteTime": {
     "end_time": "2019-11-11T09:01:22.815381Z",
     "start_time": "2019-11-11T09:01:22.779721Z"
    }
   },
   "outputs": [
    {
     "data": {
      "text/html": [
       "<div>\n",
       "<style scoped>\n",
       "    .dataframe tbody tr th:only-of-type {\n",
       "        vertical-align: middle;\n",
       "    }\n",
       "\n",
       "    .dataframe tbody tr th {\n",
       "        vertical-align: top;\n",
       "    }\n",
       "\n",
       "    .dataframe thead th {\n",
       "        text-align: right;\n",
       "    }\n",
       "</style>\n",
       "<table border=\"1\" class=\"dataframe\">\n",
       "  <thead>\n",
       "    <tr style=\"text-align: right;\">\n",
       "      <th></th>\n",
       "      <th>category</th>\n",
       "      <th>description</th>\n",
       "      <th>title</th>\n",
       "      <th>also_buy</th>\n",
       "      <th>brand</th>\n",
       "      <th>rank</th>\n",
       "      <th>also_view</th>\n",
       "      <th>main_cat</th>\n",
       "      <th>price</th>\n",
       "      <th>asin</th>\n",
       "      <th>tech1</th>\n",
       "      <th>image</th>\n",
       "      <th>date</th>\n",
       "      <th>feature</th>\n",
       "      <th>similar_item</th>\n",
       "      <th>details</th>\n",
       "      <th>tech2</th>\n",
       "    </tr>\n",
       "  </thead>\n",
       "  <tbody>\n",
       "    <tr>\n",
       "      <th>0</th>\n",
       "      <td>[Appliances, Parts &amp; Accessories, Range Parts ...</td>\n",
       "      <td>[, I would like to think that anyone in busine...</td>\n",
       "      <td>The Necessity of Strangers: The Intriguing Tru...</td>\n",
       "      <td>[0307888908, 038534936X, 1250141222, 184794080...</td>\n",
       "      <td>Alan Gregerman</td>\n",
       "      <td>855,504inBooks(</td>\n",
       "      <td>[1250141222, 0307888908, 038534936X, 1476795924]</td>\n",
       "      <td>Books</td>\n",
       "      <td>$16.39</td>\n",
       "      <td>1118461304</td>\n",
       "      <td>NaN</td>\n",
       "      <td>NaN</td>\n",
       "      <td>NaN</td>\n",
       "      <td>NaN</td>\n",
       "      <td>NaN</td>\n",
       "      <td>NaN</td>\n",
       "      <td>NaN</td>\n",
       "    </tr>\n",
       "    <tr>\n",
       "      <th>1</th>\n",
       "      <td>NaN</td>\n",
       "      <td>[Breeze Collection is a wonderful book by Kim ...</td>\n",
       "      <td>Breeze</td>\n",
       "      <td>[1906487316, 1906487014, 1906487006, 190648705...</td>\n",
       "      <td>Non Basic Stock Line</td>\n",
       "      <td>[&gt;#10,898 in Appliances (See top 100)]</td>\n",
       "      <td>NaN</td>\n",
       "      <td>Appliances</td>\n",
       "      <td>$32.00</td>\n",
       "      <td>1906487049</td>\n",
       "      <td>{'Item Weight': '1.15 pounds', 'Package Dimens...</td>\n",
       "      <td>[https://images-na.ssl-images-amazon.com/image...</td>\n",
       "      <td>April 9, 2009</td>\n",
       "      <td>NaN</td>\n",
       "      <td>NaN</td>\n",
       "      <td>NaN</td>\n",
       "      <td>NaN</td>\n",
       "    </tr>\n",
       "    <tr>\n",
       "      <th>2</th>\n",
       "      <td>[Appliances, Parts &amp; Accessories]</td>\n",
       "      <td>[This is an authorized aftermarket product. Fi...</td>\n",
       "      <td>Panasonic ADD96A1052 Blade</td>\n",
       "      <td>NaN</td>\n",
       "      <td>Panasonic</td>\n",
       "      <td>&gt;#1,465,449 in Tools &amp; Home Improvement (See t...</td>\n",
       "      <td>NaN</td>\n",
       "      <td>Tools &amp; Home Improvement</td>\n",
       "      <td>NaN</td>\n",
       "      <td>6040985461</td>\n",
       "      <td>{'Part Number': 'MSCADD96A1054', 'Item Weight'...</td>\n",
       "      <td>[https://images-na.ssl-images-amazon.com/image...</td>\n",
       "      <td>December 26, 2014</td>\n",
       "      <td>[This is an O.E.M. Authorized part, Fits with ...</td>\n",
       "      <td>NaN</td>\n",
       "      <td>NaN</td>\n",
       "      <td>NaN</td>\n",
       "    </tr>\n",
       "    <tr>\n",
       "      <th>3</th>\n",
       "      <td>[Appliances, Refrigerators, Freezers &amp; Ice Mak...</td>\n",
       "      <td>NaN</td>\n",
       "      <td>Tupperware Freezer Square Round Container Set ...</td>\n",
       "      <td>NaN</td>\n",
       "      <td>Tupperware</td>\n",
       "      <td>[&gt;#39,745 in Appliances (See top 100)]</td>\n",
       "      <td>NaN</td>\n",
       "      <td>Appliances</td>\n",
       "      <td>NaN</td>\n",
       "      <td>7301113188</td>\n",
       "      <td>{'Brand Name': 'Tupperware', 'Item Weight': '9...</td>\n",
       "      <td>NaN</td>\n",
       "      <td>November 19, 2008</td>\n",
       "      <td>[Each 3-pc. set includes two 7/8-cup/200 mL an...</td>\n",
       "      <td>NaN</td>\n",
       "      <td>NaN</td>\n",
       "      <td>NaN</td>\n",
       "    </tr>\n",
       "    <tr>\n",
       "      <th>4</th>\n",
       "      <td>[Appliances, Refrigerators, Freezers &amp; Ice Mak...</td>\n",
       "      <td>[2 X Tupperware Pure &amp; Fresh Unique Covered Co...</td>\n",
       "      <td>2 X Tupperware Pure &amp; Fresh Unique Covered Coo...</td>\n",
       "      <td>NaN</td>\n",
       "      <td>Tupperware</td>\n",
       "      <td>[&gt;#6,118 in Appliances (See top 100)]</td>\n",
       "      <td>[B004RUGHJW]</td>\n",
       "      <td>Appliances</td>\n",
       "      <td>$3.62</td>\n",
       "      <td>7861850250</td>\n",
       "      <td>{'Brand Name': 'Tupperware', 'Model Info': 'Tu...</td>\n",
       "      <td>[https://images-na.ssl-images-amazon.com/image...</td>\n",
       "      <td>June 5, 2016</td>\n",
       "      <td>[2 X Tupperware Pure &amp; Fresh Unique Covered Co...</td>\n",
       "      <td>NaN</td>\n",
       "      <td>NaN</td>\n",
       "      <td>NaN</td>\n",
       "    </tr>\n",
       "  </tbody>\n",
       "</table>\n",
       "</div>"
      ],
      "text/plain": [
       "                                            category  \\\n",
       "0  [Appliances, Parts & Accessories, Range Parts ...   \n",
       "1                                                NaN   \n",
       "2                  [Appliances, Parts & Accessories]   \n",
       "3  [Appliances, Refrigerators, Freezers & Ice Mak...   \n",
       "4  [Appliances, Refrigerators, Freezers & Ice Mak...   \n",
       "\n",
       "                                         description  \\\n",
       "0  [, I would like to think that anyone in busine...   \n",
       "1  [Breeze Collection is a wonderful book by Kim ...   \n",
       "2  [This is an authorized aftermarket product. Fi...   \n",
       "3                                                NaN   \n",
       "4  [2 X Tupperware Pure & Fresh Unique Covered Co...   \n",
       "\n",
       "                                               title  \\\n",
       "0  The Necessity of Strangers: The Intriguing Tru...   \n",
       "1                                             Breeze   \n",
       "2                         Panasonic ADD96A1052 Blade   \n",
       "3  Tupperware Freezer Square Round Container Set ...   \n",
       "4  2 X Tupperware Pure & Fresh Unique Covered Coo...   \n",
       "\n",
       "                                            also_buy                 brand  \\\n",
       "0  [0307888908, 038534936X, 1250141222, 184794080...        Alan Gregerman   \n",
       "1  [1906487316, 1906487014, 1906487006, 190648705...  Non Basic Stock Line   \n",
       "2                                                NaN             Panasonic   \n",
       "3                                                NaN            Tupperware   \n",
       "4                                                NaN            Tupperware   \n",
       "\n",
       "                                                rank  \\\n",
       "0                                    855,504inBooks(   \n",
       "1             [>#10,898 in Appliances (See top 100)]   \n",
       "2  >#1,465,449 in Tools & Home Improvement (See t...   \n",
       "3             [>#39,745 in Appliances (See top 100)]   \n",
       "4              [>#6,118 in Appliances (See top 100)]   \n",
       "\n",
       "                                          also_view                  main_cat  \\\n",
       "0  [1250141222, 0307888908, 038534936X, 1476795924]                     Books   \n",
       "1                                               NaN                Appliances   \n",
       "2                                               NaN  Tools & Home Improvement   \n",
       "3                                               NaN                Appliances   \n",
       "4                                      [B004RUGHJW]                Appliances   \n",
       "\n",
       "    price        asin                                              tech1  \\\n",
       "0  $16.39  1118461304                                                NaN   \n",
       "1  $32.00  1906487049  {'Item Weight': '1.15 pounds', 'Package Dimens...   \n",
       "2     NaN  6040985461  {'Part Number': 'MSCADD96A1054', 'Item Weight'...   \n",
       "3     NaN  7301113188  {'Brand Name': 'Tupperware', 'Item Weight': '9...   \n",
       "4   $3.62  7861850250  {'Brand Name': 'Tupperware', 'Model Info': 'Tu...   \n",
       "\n",
       "                                               image               date  \\\n",
       "0                                                NaN                NaN   \n",
       "1  [https://images-na.ssl-images-amazon.com/image...      April 9, 2009   \n",
       "2  [https://images-na.ssl-images-amazon.com/image...  December 26, 2014   \n",
       "3                                                NaN  November 19, 2008   \n",
       "4  [https://images-na.ssl-images-amazon.com/image...       June 5, 2016   \n",
       "\n",
       "                                             feature similar_item details  \\\n",
       "0                                                NaN          NaN     NaN   \n",
       "1                                                NaN          NaN     NaN   \n",
       "2  [This is an O.E.M. Authorized part, Fits with ...          NaN     NaN   \n",
       "3  [Each 3-pc. set includes two 7/8-cup/200 mL an...          NaN     NaN   \n",
       "4  [2 X Tupperware Pure & Fresh Unique Covered Co...          NaN     NaN   \n",
       "\n",
       "  tech2  \n",
       "0   NaN  \n",
       "1   NaN  \n",
       "2   NaN  \n",
       "3   NaN  \n",
       "4   NaN  "
      ]
     },
     "execution_count": 8,
     "metadata": {},
     "output_type": "execute_result"
    }
   ],
   "source": [
    "df1.head()"
   ]
  },
  {
   "cell_type": "code",
   "execution_count": 9,
   "metadata": {
    "ExecuteTime": {
     "end_time": "2019-11-11T09:01:26.258402Z",
     "start_time": "2019-11-11T09:01:23.124376Z"
    }
   },
   "outputs": [
    {
     "data": {
      "text/plain": [
       "(30459, 17)"
      ]
     },
     "execution_count": 9,
     "metadata": {},
     "output_type": "execute_result"
    }
   ],
   "source": [
    "df1.to_csv('.\\datasets\\meta_Appliances.csv',index=False)\n",
    "df1.shape"
   ]
  }
 ],
 "metadata": {
  "kernelspec": {
   "display_name": "Python 3",
   "language": "python",
   "name": "python3"
  },
  "language_info": {
   "codemirror_mode": {
    "name": "ipython",
    "version": 3
   },
   "file_extension": ".py",
   "mimetype": "text/x-python",
   "name": "python",
   "nbconvert_exporter": "python",
   "pygments_lexer": "ipython3",
   "version": "3.7.3"
  },
  "toc": {
   "base_numbering": 1,
   "nav_menu": {},
   "number_sections": true,
   "sideBar": true,
   "skip_h1_title": false,
   "title_cell": "Table of Contents",
   "title_sidebar": "Contents",
   "toc_cell": false,
   "toc_position": {},
   "toc_section_display": true,
   "toc_window_display": false
  },
  "varInspector": {
   "cols": {
    "lenName": 16,
    "lenType": 16,
    "lenVar": 40
   },
   "kernels_config": {
    "python": {
     "delete_cmd_postfix": "",
     "delete_cmd_prefix": "del ",
     "library": "var_list.py",
     "varRefreshCmd": "print(var_dic_list())"
    },
    "r": {
     "delete_cmd_postfix": ") ",
     "delete_cmd_prefix": "rm(",
     "library": "var_list.r",
     "varRefreshCmd": "cat(var_dic_list()) "
    }
   },
   "types_to_exclude": [
    "module",
    "function",
    "builtin_function_or_method",
    "instance",
    "_Feature"
   ],
   "window_display": false
  }
 },
 "nbformat": 4,
 "nbformat_minor": 2
}
